{
 "cells": [
  {
   "cell_type": "code",
   "execution_count": 41,
   "id": "9fab7ab6-0018-4d69-8dce-5504d3992acd",
   "metadata": {},
   "outputs": [],
   "source": [
    "import pandas as pd\n",
    "import numpy as np\n",
    "import spacy\n",
    "from sklearn.pipeline import Pipeline\n",
    "from sklearn.feature_extraction.text import CountVectorizer\n",
    "from sklearn.ensemble import RandomForestClassifier\n",
    "from sklearn.metrics import classification_report"
   ]
  },
  {
   "cell_type": "code",
   "execution_count": 43,
   "id": "f136a3b1-e101-4007-a33d-689e7dafec3b",
   "metadata": {},
   "outputs": [
    {
     "data": {
      "text/html": [
       "<div>\n",
       "<style scoped>\n",
       "    .dataframe tbody tr th:only-of-type {\n",
       "        vertical-align: middle;\n",
       "    }\n",
       "\n",
       "    .dataframe tbody tr th {\n",
       "        vertical-align: top;\n",
       "    }\n",
       "\n",
       "    .dataframe thead th {\n",
       "        text-align: right;\n",
       "    }\n",
       "</style>\n",
       "<table border=\"1\" class=\"dataframe\">\n",
       "  <thead>\n",
       "    <tr style=\"text-align: right;\">\n",
       "      <th></th>\n",
       "      <th>rating</th>\n",
       "      <th>date</th>\n",
       "      <th>variation</th>\n",
       "      <th>verified_reviews</th>\n",
       "      <th>feedback</th>\n",
       "    </tr>\n",
       "  </thead>\n",
       "  <tbody>\n",
       "    <tr>\n",
       "      <th>0</th>\n",
       "      <td>5</td>\n",
       "      <td>31-Jul-18</td>\n",
       "      <td>Charcoal Fabric</td>\n",
       "      <td>Love my Echo!</td>\n",
       "      <td>1</td>\n",
       "    </tr>\n",
       "    <tr>\n",
       "      <th>1</th>\n",
       "      <td>5</td>\n",
       "      <td>31-Jul-18</td>\n",
       "      <td>Charcoal Fabric</td>\n",
       "      <td>Loved it!</td>\n",
       "      <td>1</td>\n",
       "    </tr>\n",
       "    <tr>\n",
       "      <th>2</th>\n",
       "      <td>4</td>\n",
       "      <td>31-Jul-18</td>\n",
       "      <td>Walnut Finish</td>\n",
       "      <td>Sometimes while playing a game, you can answer...</td>\n",
       "      <td>1</td>\n",
       "    </tr>\n",
       "    <tr>\n",
       "      <th>3</th>\n",
       "      <td>5</td>\n",
       "      <td>31-Jul-18</td>\n",
       "      <td>Charcoal Fabric</td>\n",
       "      <td>I have had a lot of fun with this thing. My 4 ...</td>\n",
       "      <td>1</td>\n",
       "    </tr>\n",
       "    <tr>\n",
       "      <th>4</th>\n",
       "      <td>5</td>\n",
       "      <td>31-Jul-18</td>\n",
       "      <td>Charcoal Fabric</td>\n",
       "      <td>Music</td>\n",
       "      <td>1</td>\n",
       "    </tr>\n",
       "  </tbody>\n",
       "</table>\n",
       "</div>"
      ],
      "text/plain": [
       "   rating       date         variation  \\\n",
       "0       5  31-Jul-18  Charcoal Fabric    \n",
       "1       5  31-Jul-18  Charcoal Fabric    \n",
       "2       4  31-Jul-18    Walnut Finish    \n",
       "3       5  31-Jul-18  Charcoal Fabric    \n",
       "4       5  31-Jul-18  Charcoal Fabric    \n",
       "\n",
       "                                    verified_reviews  feedback  \n",
       "0                                      Love my Echo!         1  \n",
       "1                                          Loved it!         1  \n",
       "2  Sometimes while playing a game, you can answer...         1  \n",
       "3  I have had a lot of fun with this thing. My 4 ...         1  \n",
       "4                                              Music         1  "
      ]
     },
     "execution_count": 43,
     "metadata": {},
     "output_type": "execute_result"
    }
   ],
   "source": [
    "df=pd.read_csv(r\"C:\\Users\\omgai\\Downloads\\amazon_alexa.tsv\",sep='\\t')\n",
    "df.head()"
   ]
  },
  {
   "cell_type": "code",
   "execution_count": 45,
   "id": "5ad6d9ad-7f13-42c2-a690-39376dac8b06",
   "metadata": {},
   "outputs": [
    {
     "data": {
      "text/plain": [
       "(3150, 5)"
      ]
     },
     "execution_count": 45,
     "metadata": {},
     "output_type": "execute_result"
    }
   ],
   "source": [
    "df.shape"
   ]
  },
  {
   "cell_type": "code",
   "execution_count": 47,
   "id": "792e7e7e-ee18-4181-bf20-806be12d3f0d",
   "metadata": {},
   "outputs": [
    {
     "data": {
      "text/plain": [
       "rating\n",
       "5    2286\n",
       "4     455\n",
       "1     161\n",
       "3     152\n",
       "2      96\n",
       "Name: count, dtype: int64"
      ]
     },
     "execution_count": 47,
     "metadata": {},
     "output_type": "execute_result"
    }
   ],
   "source": [
    "df.rating.value_counts()"
   ]
  },
  {
   "cell_type": "code",
   "execution_count": 64,
   "id": "c1386b5b-8c1e-4b68-b985-c8da69f8a442",
   "metadata": {},
   "outputs": [
    {
     "data": {
      "text/plain": [
       "rating              0\n",
       "date                0\n",
       "variation           0\n",
       "verified_reviews    1\n",
       "feedback            0\n",
       "Sentiment           0\n",
       "dtype: int64"
      ]
     },
     "execution_count": 64,
     "metadata": {},
     "output_type": "execute_result"
    }
   ],
   "source": [
    "df.isnull().sum()"
   ]
  },
  {
   "cell_type": "code",
   "execution_count": 70,
   "id": "d871499d-45b5-4703-8c16-b86b3c1ce114",
   "metadata": {},
   "outputs": [],
   "source": [
    "df = df.dropna()"
   ]
  },
  {
   "cell_type": "code",
   "execution_count": 72,
   "id": "5850c01a-4647-4c50-9435-cdcf2266cc74",
   "metadata": {},
   "outputs": [
    {
     "data": {
      "text/plain": [
       "rating              0\n",
       "date                0\n",
       "variation           0\n",
       "verified_reviews    0\n",
       "feedback            0\n",
       "Sentiment           0\n",
       "dtype: int64"
      ]
     },
     "execution_count": 72,
     "metadata": {},
     "output_type": "execute_result"
    }
   ],
   "source": [
    "df.isnull().sum()"
   ]
  },
  {
   "cell_type": "code",
   "execution_count": 74,
   "id": "d06dd506-b773-4ff4-9d36-2b33276aa374",
   "metadata": {},
   "outputs": [
    {
     "data": {
      "text/plain": [
       "rating               int64\n",
       "date                object\n",
       "variation           object\n",
       "verified_reviews    object\n",
       "feedback             int64\n",
       "Sentiment            int64\n",
       "dtype: object"
      ]
     },
     "execution_count": 74,
     "metadata": {},
     "output_type": "execute_result"
    }
   ],
   "source": [
    "df.dtypes"
   ]
  },
  {
   "cell_type": "markdown",
   "id": "af956ceb-c54d-4bd7-ad15-64743aac2414",
   "metadata": {},
   "source": [
    "let's assumed that the 5 & 4 stars ratting are positive feedback.\n",
    "3 for neutral &\n",
    "1  &  2 stars are negative reviews."
   ]
  },
  {
   "cell_type": "markdown",
   "id": "e1cf8249-416b-4aa1-9c68-b97d15705876",
   "metadata": {},
   "source": [
    "now lets create the new column with the 0 for positive , 1 for neutral & 2 for negative reviews."
   ]
  },
  {
   "cell_type": "code",
   "execution_count": 78,
   "id": "42a24c30-1371-483d-af0b-f9490a2e8b2b",
   "metadata": {},
   "outputs": [
    {
     "data": {
      "text/html": [
       "<div>\n",
       "<style scoped>\n",
       "    .dataframe tbody tr th:only-of-type {\n",
       "        vertical-align: middle;\n",
       "    }\n",
       "\n",
       "    .dataframe tbody tr th {\n",
       "        vertical-align: top;\n",
       "    }\n",
       "\n",
       "    .dataframe thead th {\n",
       "        text-align: right;\n",
       "    }\n",
       "</style>\n",
       "<table border=\"1\" class=\"dataframe\">\n",
       "  <thead>\n",
       "    <tr style=\"text-align: right;\">\n",
       "      <th></th>\n",
       "      <th>rating</th>\n",
       "      <th>date</th>\n",
       "      <th>variation</th>\n",
       "      <th>verified_reviews</th>\n",
       "      <th>feedback</th>\n",
       "      <th>Sentiment</th>\n",
       "    </tr>\n",
       "  </thead>\n",
       "  <tbody>\n",
       "    <tr>\n",
       "      <th>0</th>\n",
       "      <td>5</td>\n",
       "      <td>31-Jul-18</td>\n",
       "      <td>Charcoal Fabric</td>\n",
       "      <td>Love my Echo!</td>\n",
       "      <td>1</td>\n",
       "      <td>0</td>\n",
       "    </tr>\n",
       "    <tr>\n",
       "      <th>1</th>\n",
       "      <td>5</td>\n",
       "      <td>31-Jul-18</td>\n",
       "      <td>Charcoal Fabric</td>\n",
       "      <td>Loved it!</td>\n",
       "      <td>1</td>\n",
       "      <td>0</td>\n",
       "    </tr>\n",
       "    <tr>\n",
       "      <th>2</th>\n",
       "      <td>4</td>\n",
       "      <td>31-Jul-18</td>\n",
       "      <td>Walnut Finish</td>\n",
       "      <td>Sometimes while playing a game, you can answer...</td>\n",
       "      <td>1</td>\n",
       "      <td>0</td>\n",
       "    </tr>\n",
       "    <tr>\n",
       "      <th>3</th>\n",
       "      <td>5</td>\n",
       "      <td>31-Jul-18</td>\n",
       "      <td>Charcoal Fabric</td>\n",
       "      <td>I have had a lot of fun with this thing. My 4 ...</td>\n",
       "      <td>1</td>\n",
       "      <td>0</td>\n",
       "    </tr>\n",
       "    <tr>\n",
       "      <th>4</th>\n",
       "      <td>5</td>\n",
       "      <td>31-Jul-18</td>\n",
       "      <td>Charcoal Fabric</td>\n",
       "      <td>Music</td>\n",
       "      <td>1</td>\n",
       "      <td>0</td>\n",
       "    </tr>\n",
       "  </tbody>\n",
       "</table>\n",
       "</div>"
      ],
      "text/plain": [
       "   rating       date         variation  \\\n",
       "0       5  31-Jul-18  Charcoal Fabric    \n",
       "1       5  31-Jul-18  Charcoal Fabric    \n",
       "2       4  31-Jul-18    Walnut Finish    \n",
       "3       5  31-Jul-18  Charcoal Fabric    \n",
       "4       5  31-Jul-18  Charcoal Fabric    \n",
       "\n",
       "                                    verified_reviews  feedback  Sentiment  \n",
       "0                                      Love my Echo!         1          0  \n",
       "1                                          Loved it!         1          0  \n",
       "2  Sometimes while playing a game, you can answer...         1          0  \n",
       "3  I have had a lot of fun with this thing. My 4 ...         1          0  \n",
       "4                                              Music         1          0  "
      ]
     },
     "execution_count": 78,
     "metadata": {},
     "output_type": "execute_result"
    }
   ],
   "source": [
    "df['Sentiment']=df.rating.map({\n",
    "     5:0,\n",
    "    4:0,\n",
    "    3:1,\n",
    "    2:2,\n",
    "    1:2  \n",
    "})\n",
    "df.head()"
   ]
  },
  {
   "cell_type": "code",
   "execution_count": 80,
   "id": "04774894-a38e-435a-bc5b-7f7c33135496",
   "metadata": {},
   "outputs": [
    {
     "data": {
      "text/plain": [
       "Sentiment\n",
       "0    2741\n",
       "2     256\n",
       "1     152\n",
       "Name: count, dtype: int64"
      ]
     },
     "execution_count": 80,
     "metadata": {},
     "output_type": "execute_result"
    }
   ],
   "source": [
    "df.Sentiment.value_counts()"
   ]
  },
  {
   "cell_type": "code",
   "execution_count": 82,
   "id": "464bf569-0244-47f5-85ac-bcbf08704bcc",
   "metadata": {},
   "outputs": [],
   "source": [
    "min_count=df.Sentiment.value_counts().min()"
   ]
  },
  {
   "cell_type": "markdown",
   "id": "20429609-28dd-4bb8-9049-a67a3d1d9280",
   "metadata": {},
   "source": [
    "see there is huge imbalance in the dataset to ovecome this problem lets use undersampling for this small learning project even it is not good practice to lose data"
   ]
  },
  {
   "cell_type": "code",
   "execution_count": 85,
   "id": "4bd06295-9f82-4702-a0f9-06a105091d66",
   "metadata": {},
   "outputs": [
    {
     "data": {
      "text/plain": [
       "(152, 6)"
      ]
     },
     "execution_count": 85,
     "metadata": {},
     "output_type": "execute_result"
    }
   ],
   "source": [
    "df_positive=df[df.Sentiment==0].sample(min_count)\n",
    "df_positive.shape"
   ]
  },
  {
   "cell_type": "markdown",
   "id": "0542c8cf-bd44-49cc-ba57-2a5ccf577a8d",
   "metadata": {},
   "source": [
    "let's do it for remaining ones"
   ]
  },
  {
   "cell_type": "code",
   "execution_count": 88,
   "id": "53e0c991-76a6-4195-9ab8-958d099443dc",
   "metadata": {},
   "outputs": [
    {
     "data": {
      "text/html": [
       "<div>\n",
       "<style scoped>\n",
       "    .dataframe tbody tr th:only-of-type {\n",
       "        vertical-align: middle;\n",
       "    }\n",
       "\n",
       "    .dataframe tbody tr th {\n",
       "        vertical-align: top;\n",
       "    }\n",
       "\n",
       "    .dataframe thead th {\n",
       "        text-align: right;\n",
       "    }\n",
       "</style>\n",
       "<table border=\"1\" class=\"dataframe\">\n",
       "  <thead>\n",
       "    <tr style=\"text-align: right;\">\n",
       "      <th></th>\n",
       "      <th>rating</th>\n",
       "      <th>date</th>\n",
       "      <th>variation</th>\n",
       "      <th>verified_reviews</th>\n",
       "      <th>feedback</th>\n",
       "      <th>Sentiment</th>\n",
       "    </tr>\n",
       "  </thead>\n",
       "  <tbody>\n",
       "    <tr>\n",
       "      <th>2562</th>\n",
       "      <td>5</td>\n",
       "      <td>30-Jul-18</td>\n",
       "      <td>Black  Dot</td>\n",
       "      <td>Just like it's big sister, the Echo, only smal...</td>\n",
       "      <td>1</td>\n",
       "      <td>0</td>\n",
       "    </tr>\n",
       "    <tr>\n",
       "      <th>1560</th>\n",
       "      <td>5</td>\n",
       "      <td>30-Jul-18</td>\n",
       "      <td>Black  Show</td>\n",
       "      <td>I love the Echo Show!! I have the dot and have...</td>\n",
       "      <td>1</td>\n",
       "      <td>0</td>\n",
       "    </tr>\n",
       "    <tr>\n",
       "      <th>3099</th>\n",
       "      <td>4</td>\n",
       "      <td>30-Jul-18</td>\n",
       "      <td>Black  Dot</td>\n",
       "      <td>Good device</td>\n",
       "      <td>1</td>\n",
       "      <td>0</td>\n",
       "    </tr>\n",
       "    <tr>\n",
       "      <th>2593</th>\n",
       "      <td>5</td>\n",
       "      <td>30-Jul-18</td>\n",
       "      <td>Black  Dot</td>\n",
       "      <td>Alexa is phenomenal!</td>\n",
       "      <td>1</td>\n",
       "      <td>0</td>\n",
       "    </tr>\n",
       "    <tr>\n",
       "      <th>1929</th>\n",
       "      <td>4</td>\n",
       "      <td>26-Jul-18</td>\n",
       "      <td>Black  Plus</td>\n",
       "      <td>I love my Echo Plus. The only drawback is that...</td>\n",
       "      <td>1</td>\n",
       "      <td>0</td>\n",
       "    </tr>\n",
       "  </tbody>\n",
       "</table>\n",
       "</div>"
      ],
      "text/plain": [
       "      rating       date    variation  \\\n",
       "2562       5  30-Jul-18   Black  Dot   \n",
       "1560       5  30-Jul-18  Black  Show   \n",
       "3099       4  30-Jul-18   Black  Dot   \n",
       "2593       5  30-Jul-18   Black  Dot   \n",
       "1929       4  26-Jul-18  Black  Plus   \n",
       "\n",
       "                                       verified_reviews  feedback  Sentiment  \n",
       "2562  Just like it's big sister, the Echo, only smal...         1          0  \n",
       "1560  I love the Echo Show!! I have the dot and have...         1          0  \n",
       "3099                                        Good device         1          0  \n",
       "2593                               Alexa is phenomenal!         1          0  \n",
       "1929  I love my Echo Plus. The only drawback is that...         1          0  "
      ]
     },
     "execution_count": 88,
     "metadata": {},
     "output_type": "execute_result"
    }
   ],
   "source": [
    "df_neutral=df[df.Sentiment==1].sample(min_count)\n",
    "df_negative=df[df.Sentiment==2].sample(min_count)\n",
    "\n",
    "df=pd.concat([df_positive,df_neutral,df_negative])\n",
    "df.head()"
   ]
  },
  {
   "cell_type": "code",
   "execution_count": 90,
   "id": "3d5c897f-4e6a-4640-bfc4-7a0bcc6ff6d7",
   "metadata": {},
   "outputs": [
    {
     "data": {
      "text/plain": [
       "Sentiment\n",
       "0    152\n",
       "1    152\n",
       "2    152\n",
       "Name: count, dtype: int64"
      ]
     },
     "execution_count": 90,
     "metadata": {},
     "output_type": "execute_result"
    }
   ],
   "source": [
    "df.Sentiment.value_counts()"
   ]
  },
  {
   "cell_type": "code",
   "execution_count": null,
   "id": "00823e23-a4e2-4c62-8ce0-2a670d72be19",
   "metadata": {},
   "outputs": [],
   "source": []
  },
  {
   "cell_type": "markdown",
   "id": "1e288db6-a651-4682-b75b-5f01e44ba570",
   "metadata": {},
   "source": [
    "#  Preprocessing "
   ]
  },
  {
   "cell_type": "markdown",
   "id": "d56d525b-737f-40cb-a028-1c00ab3055ce",
   "metadata": {},
   "source": [
    "in preprocessing we are going to use Spacy -> tokenizations, stop words , lemmatization. "
   ]
  },
  {
   "cell_type": "code",
   "execution_count": 95,
   "id": "34f4c773-8cb1-4f5e-932d-c405cb88cc1a",
   "metadata": {},
   "outputs": [],
   "source": [
    "def preprocessing(text):\n",
    "    nlp=spacy.load('en_core_web_sm')\n",
    "    doc=nlp(text)\n",
    "\n",
    "    words=[]\n",
    "    for token in doc:\n",
    "        if not token.is_stop and not token.is_punct:\n",
    "            words.append(token.lemma_)\n",
    "\n",
    "    return \" \".join(words)"
   ]
  },
  {
   "cell_type": "code",
   "execution_count": 97,
   "id": "4701b1ff-d6ca-4034-be1f-7d0f96bddb41",
   "metadata": {},
   "outputs": [
    {
     "data": {
      "text/html": [
       "<div>\n",
       "<style scoped>\n",
       "    .dataframe tbody tr th:only-of-type {\n",
       "        vertical-align: middle;\n",
       "    }\n",
       "\n",
       "    .dataframe tbody tr th {\n",
       "        vertical-align: top;\n",
       "    }\n",
       "\n",
       "    .dataframe thead th {\n",
       "        text-align: right;\n",
       "    }\n",
       "</style>\n",
       "<table border=\"1\" class=\"dataframe\">\n",
       "  <thead>\n",
       "    <tr style=\"text-align: right;\">\n",
       "      <th></th>\n",
       "      <th>rating</th>\n",
       "      <th>date</th>\n",
       "      <th>variation</th>\n",
       "      <th>verified_reviews</th>\n",
       "      <th>feedback</th>\n",
       "      <th>Sentiment</th>\n",
       "      <th>preprocessed_text</th>\n",
       "    </tr>\n",
       "  </thead>\n",
       "  <tbody>\n",
       "    <tr>\n",
       "      <th>2562</th>\n",
       "      <td>5</td>\n",
       "      <td>30-Jul-18</td>\n",
       "      <td>Black  Dot</td>\n",
       "      <td>Just like it's big sister, the Echo, only smal...</td>\n",
       "      <td>1</td>\n",
       "      <td>0</td>\n",
       "      <td>like big sister Echo small slightly audio fide...</td>\n",
       "    </tr>\n",
       "    <tr>\n",
       "      <th>1560</th>\n",
       "      <td>5</td>\n",
       "      <td>30-Jul-18</td>\n",
       "      <td>Black  Show</td>\n",
       "      <td>I love the Echo Show!! I have the dot and have...</td>\n",
       "      <td>1</td>\n",
       "      <td>0</td>\n",
       "      <td>love Echo dot 6 month   well   sound quality a...</td>\n",
       "    </tr>\n",
       "    <tr>\n",
       "      <th>3099</th>\n",
       "      <td>4</td>\n",
       "      <td>30-Jul-18</td>\n",
       "      <td>Black  Dot</td>\n",
       "      <td>Good device</td>\n",
       "      <td>1</td>\n",
       "      <td>0</td>\n",
       "      <td>good device</td>\n",
       "    </tr>\n",
       "    <tr>\n",
       "      <th>2593</th>\n",
       "      <td>5</td>\n",
       "      <td>30-Jul-18</td>\n",
       "      <td>Black  Dot</td>\n",
       "      <td>Alexa is phenomenal!</td>\n",
       "      <td>1</td>\n",
       "      <td>0</td>\n",
       "      <td>Alexa phenomenal</td>\n",
       "    </tr>\n",
       "    <tr>\n",
       "      <th>1929</th>\n",
       "      <td>4</td>\n",
       "      <td>26-Jul-18</td>\n",
       "      <td>Black  Plus</td>\n",
       "      <td>I love my Echo Plus. The only drawback is that...</td>\n",
       "      <td>1</td>\n",
       "      <td>0</td>\n",
       "      <td>love Echo Plus drawback battery plug time make...</td>\n",
       "    </tr>\n",
       "  </tbody>\n",
       "</table>\n",
       "</div>"
      ],
      "text/plain": [
       "      rating       date    variation  \\\n",
       "2562       5  30-Jul-18   Black  Dot   \n",
       "1560       5  30-Jul-18  Black  Show   \n",
       "3099       4  30-Jul-18   Black  Dot   \n",
       "2593       5  30-Jul-18   Black  Dot   \n",
       "1929       4  26-Jul-18  Black  Plus   \n",
       "\n",
       "                                       verified_reviews  feedback  Sentiment  \\\n",
       "2562  Just like it's big sister, the Echo, only smal...         1          0   \n",
       "1560  I love the Echo Show!! I have the dot and have...         1          0   \n",
       "3099                                        Good device         1          0   \n",
       "2593                               Alexa is phenomenal!         1          0   \n",
       "1929  I love my Echo Plus. The only drawback is that...         1          0   \n",
       "\n",
       "                                      preprocessed_text  \n",
       "2562  like big sister Echo small slightly audio fide...  \n",
       "1560  love Echo dot 6 month   well   sound quality a...  \n",
       "3099                                        good device  \n",
       "2593                                   Alexa phenomenal  \n",
       "1929  love Echo Plus drawback battery plug time make...  "
      ]
     },
     "execution_count": 97,
     "metadata": {},
     "output_type": "execute_result"
    }
   ],
   "source": [
    "df['preprocessed_text']=df.verified_reviews.apply(preprocessing)\n",
    "df.head()"
   ]
  },
  {
   "cell_type": "code",
   "execution_count": 105,
   "id": "2833313a-c31d-427a-90f7-bf813045f38d",
   "metadata": {},
   "outputs": [],
   "source": [
    "from sklearn.model_selection import train_test_split\n",
    "\n",
    "X_train, X_test, y_train, y_test = train_test_split(\n",
    "    df.preprocessed_text, \n",
    "    df.Sentiment, \n",
    "    test_size=0.2, # 20% samples will go to test dataset\n",
    "    random_state=2022,\n",
    "    stratify=df.Sentiment\n",
    ")"
   ]
  },
  {
   "cell_type": "code",
   "execution_count": 109,
   "id": "65375490-eb60-4038-b21b-4a66086bf5e0",
   "metadata": {},
   "outputs": [
    {
     "name": "stdout",
     "output_type": "stream",
     "text": [
      "              precision    recall  f1-score   support\n",
      "\n",
      "           0       0.71      0.65      0.68        31\n",
      "           1       0.80      0.52      0.63        31\n",
      "           2       0.50      0.73      0.59        30\n",
      "\n",
      "    accuracy                           0.63        92\n",
      "   macro avg       0.67      0.63      0.63        92\n",
      "weighted avg       0.67      0.63      0.63        92\n",
      "\n"
     ]
    }
   ],
   "source": [
    "clf=Pipeline([\n",
    "    ('vectorizer',CountVectorizer(ngram_range=(1,3)) ),\n",
    "    ('model', RandomForestClassifier())\n",
    "])\n",
    "clf.fit(X_train, y_train)\n",
    "y_pred=clf.predict(X_test)\n",
    "\n",
    "print(classification_report(y_test, y_pred))"
   ]
  },
  {
   "cell_type": "code",
   "execution_count": 117,
   "id": "cf196190-1739-4e38-ba91-428bb8a58b23",
   "metadata": {},
   "outputs": [
    {
     "name": "stdout",
     "output_type": "stream",
     "text": [
      "              precision    recall  f1-score   support\n",
      "\n",
      "           0       0.95      0.61      0.75        31\n",
      "           1       0.74      0.65      0.69        31\n",
      "           2       0.53      0.80      0.64        30\n",
      "\n",
      "    accuracy                           0.68        92\n",
      "   macro avg       0.74      0.69      0.69        92\n",
      "weighted avg       0.74      0.68      0.69        92\n",
      "\n"
     ]
    }
   ],
   "source": [
    "from sklearn.feature_extraction.text import TfidfVectorizer\n",
    "clf=Pipeline([\n",
    "    ('vectorizer',TfidfVectorizer() ),\n",
    "    ('model', RandomForestClassifier())\n",
    "])\n",
    "clf.fit(X_train, y_train)\n",
    "y_pred=clf.predict(X_test)\n",
    "\n",
    "print(classification_report(y_test, y_pred))"
   ]
  },
  {
   "cell_type": "code",
   "execution_count": 119,
   "id": "12df9fde-0365-4d18-8ad6-5beae54d5cd0",
   "metadata": {},
   "outputs": [
    {
     "name": "stdout",
     "output_type": "stream",
     "text": [
      "              precision    recall  f1-score   support\n",
      "\n",
      "           0       0.83      0.16      0.27        31\n",
      "           1       0.45      0.45      0.45        31\n",
      "           2       0.42      0.77      0.54        30\n",
      "\n",
      "    accuracy                           0.46        92\n",
      "   macro avg       0.57      0.46      0.42        92\n",
      "weighted avg       0.57      0.46      0.42        92\n",
      "\n"
     ]
    }
   ],
   "source": [
    "from sklearn.neighbors import KNeighborsClassifier\n",
    "clf=Pipeline([\n",
    "    ('vectorizer',TfidfVectorizer() ),\n",
    "    ('model', KNeighborsClassifier())\n",
    "])\n",
    "clf.fit(X_train, y_train)\n",
    "y_pred=clf.predict(X_test)\n",
    "\n",
    "print(classification_report(y_test, y_pred))"
   ]
  },
  {
   "cell_type": "code",
   "execution_count": 121,
   "id": "62fe57cf-95de-47c3-b866-3805bb1d8cc8",
   "metadata": {},
   "outputs": [
    {
     "name": "stdout",
     "output_type": "stream",
     "text": [
      "              precision    recall  f1-score   support\n",
      "\n",
      "           0       0.96      0.74      0.84        31\n",
      "           1       0.68      0.61      0.64        31\n",
      "           2       0.60      0.80      0.69        30\n",
      "\n",
      "    accuracy                           0.72        92\n",
      "   macro avg       0.75      0.72      0.72        92\n",
      "weighted avg       0.75      0.72      0.72        92\n",
      "\n"
     ]
    }
   ],
   "source": [
    "from sklearn.naive_bayes import MultinomialNB\n",
    "clf=Pipeline([\n",
    "    ('vectorizer',TfidfVectorizer() ),\n",
    "    ('model', MultinomialNB())\n",
    "])\n",
    "clf.fit(X_train, y_train)\n",
    "y_pred=clf.predict(X_test)\n",
    "\n",
    "print(classification_report(y_test, y_pred))\n"
   ]
  },
  {
   "cell_type": "code",
   "execution_count": 123,
   "id": "74474114-2e7a-488d-a253-a4838f370cbc",
   "metadata": {},
   "outputs": [
    {
     "name": "stdout",
     "output_type": "stream",
     "text": [
      "              precision    recall  f1-score   support\n",
      "\n",
      "           0       0.89      0.52      0.65        31\n",
      "           1       0.70      0.61      0.66        31\n",
      "           2       0.49      0.77      0.60        30\n",
      "\n",
      "    accuracy                           0.63        92\n",
      "   macro avg       0.69      0.63      0.64        92\n",
      "weighted avg       0.70      0.63      0.64        92\n",
      "\n"
     ]
    }
   ],
   "source": [
    "from xgboost import XGBClassifier\n",
    "clf=Pipeline([\n",
    "    ('vectorizer',TfidfVectorizer() ),\n",
    "    ('model', XGBClassifier())\n",
    "])\n",
    "clf.fit(X_train, y_train)\n",
    "y_pred=clf.predict(X_test)\n",
    "\n",
    "print(classification_report(y_test, y_pred))"
   ]
  },
  {
   "cell_type": "markdown",
   "id": "007d8662-f568-4a44-ab70-39c127e23b73",
   "metadata": {},
   "source": [
    "so by trying various algos following works well so lets import this model"
   ]
  },
  {
   "cell_type": "code",
   "execution_count": 126,
   "id": "339dfa06-46b2-4579-9024-b3955954e701",
   "metadata": {},
   "outputs": [
    {
     "name": "stdout",
     "output_type": "stream",
     "text": [
      "              precision    recall  f1-score   support\n",
      "\n",
      "           0       0.89      0.55      0.68        31\n",
      "           1       0.72      0.58      0.64        31\n",
      "           2       0.50      0.80      0.62        30\n",
      "\n",
      "    accuracy                           0.64        92\n",
      "   macro avg       0.70      0.64      0.65        92\n",
      "weighted avg       0.71      0.64      0.65        92\n",
      "\n"
     ]
    }
   ],
   "source": [
    "clf=Pipeline([\n",
    "    ('vectorizer',TfidfVectorizer() ),\n",
    "    ('model', RandomForestClassifier())\n",
    "])\n",
    "clf.fit(X_train, y_train)\n",
    "y_pred=clf.predict(X_test)\n",
    "\n",
    "print(classification_report(y_test, y_pred))"
   ]
  },
  {
   "cell_type": "code",
   "execution_count": 128,
   "id": "25ef12c5-4576-47d7-a25e-4039e94f3789",
   "metadata": {},
   "outputs": [
    {
     "data": {
      "text/plain": [
       "['basic_alexa_review_model.pkl']"
      ]
     },
     "execution_count": 128,
     "metadata": {},
     "output_type": "execute_result"
    }
   ],
   "source": [
    "import joblib\n",
    "\n",
    "# Save to a file\n",
    "joblib.dump(clf, \"basic_alexa_review_model.pkl\")"
   ]
  },
  {
   "cell_type": "code",
   "execution_count": null,
   "id": "bfa7d703-b633-4aa4-9935-0728e856c459",
   "metadata": {},
   "outputs": [],
   "source": []
  }
 ],
 "metadata": {
  "kernelspec": {
   "display_name": "Python (base)",
   "language": "python",
   "name": "base"
  },
  "language_info": {
   "codemirror_mode": {
    "name": "ipython",
    "version": 3
   },
   "file_extension": ".py",
   "mimetype": "text/x-python",
   "name": "python",
   "nbconvert_exporter": "python",
   "pygments_lexer": "ipython3",
   "version": "3.12.3"
  }
 },
 "nbformat": 4,
 "nbformat_minor": 5
}
