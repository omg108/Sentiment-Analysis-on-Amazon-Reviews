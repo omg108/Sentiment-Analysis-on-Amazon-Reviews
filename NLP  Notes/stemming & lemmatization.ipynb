{
 "cells": [
  {
   "cell_type": "code",
   "execution_count": 45,
   "id": "be26c74d-5f5b-4fbd-bf14-5977a8585679",
   "metadata": {},
   "outputs": [],
   "source": [
    "import nltk \n",
    "import spacy"
   ]
  },
  {
   "cell_type": "code",
   "execution_count": 46,
   "id": "5cbeaab1-ddf1-4c63-8e1b-d123313f38e4",
   "metadata": {},
   "outputs": [],
   "source": [
    "from nltk.stem import PorterStemmer\n",
    "stemmer=PorterStemmer()\n"
   ]
  },
  {
   "cell_type": "code",
   "execution_count": 47,
   "id": "81058e44-f4df-4026-96e9-4e265216603a",
   "metadata": {},
   "outputs": [
    {
     "name": "stdout",
     "output_type": "stream",
     "text": [
      "eating | eat\n",
      "eats | eat\n",
      "eat | eat\n",
      "ate | ate\n",
      "adjustable | adjust\n",
      "rafting | raft\n",
      "ability | abil\n",
      "meeting | meet\n"
     ]
    }
   ],
   "source": [
    "words = [\"eating\", \"eats\", \"eat\", \"ate\", \"adjustable\", \"rafting\", \"ability\", \"meeting\"]\n",
    "\n",
    "for word in words:\n",
    "    print(word , \"|\", stemmer.stem(word ))"
   ]
  },
  {
   "cell_type": "code",
   "execution_count": 48,
   "id": "fe85f3a9-1a44-43a9-a665-a6df45e34087",
   "metadata": {},
   "outputs": [],
   "source": [
    "nlp= spacy.load(\"en_core_web_sm\")\n",
    "doc = nlp(\"eating eats eat ate adjustable rafting ability meeting better\")"
   ]
  },
  {
   "cell_type": "code",
   "execution_count": 49,
   "id": "d5aad4d8-507e-4ca2-be94-dff3f9ea1ddb",
   "metadata": {},
   "outputs": [
    {
     "name": "stdout",
     "output_type": "stream",
     "text": [
      "eating | eat\n",
      "eats | eat\n",
      "eat | eat\n",
      "ate | eat\n",
      "adjustable | adjustable\n",
      "rafting | raft\n",
      "ability | ability\n",
      "meeting | meet\n",
      "better | well\n"
     ]
    }
   ],
   "source": [
    "for token in doc:\n",
    "     print(token , \"|\", token.lemma_)"
   ]
  },
  {
   "cell_type": "code",
   "execution_count": 50,
   "id": "c3600da5-287d-4e62-9e49-cce1dd4fd22f",
   "metadata": {},
   "outputs": [
    {
     "name": "stdout",
     "output_type": "stream",
     "text": [
      "Mando | Mando\n",
      "talked | talk\n",
      "for | for\n",
      "3 | 3\n",
      "hours | hour\n",
      "although | although\n",
      "talking | talk\n",
      "is | be\n",
      "n't | not\n",
      "his | his\n",
      "thing | thing\n"
     ]
    }
   ],
   "source": [
    "doc = nlp(\"Mando talked for 3 hours although talking isn't his thing\")\n",
    "for token in doc:\n",
    "     print(token , \"|\", token.lemma_)"
   ]
  },
  {
   "cell_type": "code",
   "execution_count": 51,
   "id": "6fc36bf6-eb74-4484-889e-57b5fbbe425f",
   "metadata": {},
   "outputs": [
    {
     "data": {
      "text/plain": [
       "['tok2vec', 'tagger', 'parser', 'attribute_ruler', 'lemmatizer', 'ner']"
      ]
     },
     "execution_count": 51,
     "metadata": {},
     "output_type": "execute_result"
    }
   ],
   "source": [
    "nlp.pipe_names"
   ]
  },
  {
   "cell_type": "code",
   "execution_count": 52,
   "id": "0ea67195-3a00-410b-99df-c5e5da0df6e2",
   "metadata": {},
   "outputs": [
    {
     "name": "stdout",
     "output_type": "stream",
     "text": [
      "Bro | Bro\n",
      ", | ,\n",
      "you | you\n",
      "wanna | wanna\n",
      "go | go\n",
      "? | ?\n",
      "Brah | Brah\n",
      ", | ,\n",
      "do | do\n",
      "n't | not\n",
      "say | say\n",
      "no | no\n",
      "! | !\n",
      "I | I\n",
      "am | be\n",
      "exhausted | exhaust\n"
     ]
    }
   ],
   "source": [
    "doc = nlp(\"Bro, you wanna go? Brah, don't say no! I am exhausted\")\n",
    "for token in doc:\n",
    "    print(token.text, \"|\", token.lemma_)"
   ]
  },
  {
   "cell_type": "code",
   "execution_count": 53,
   "id": "3e492f4a-8cca-4d98-9a21-fb5ac5342049",
   "metadata": {},
   "outputs": [
    {
     "name": "stdout",
     "output_type": "stream",
     "text": [
      "Bro | brother\n",
      ", | ,\n",
      "you | you\n",
      "wanna | wanna\n",
      "go | go\n",
      "? | ?\n",
      "Brah | brother\n",
      ", | ,\n",
      "do | do\n",
      "n't | not\n",
      "say | say\n",
      "no | no\n",
      "! | !\n",
      "I | I\n",
      "am | be\n",
      "exhausted | exhaust\n"
     ]
    }
   ],
   "source": [
    "ar=nlp.get_pipe('attribute_ruler')\n",
    "\n",
    "ar.add([[{\"TEXT\":\"Bro\"}],[{\"TEXT\":\"Brah\" }]], {'LEMMA':'brother'})\n",
    "\n",
    "doc = nlp(\"Bro, you wanna go? Brah, don't say no! I am exhausted\")\n",
    "for token in doc:\n",
    "    print(token.text, \"|\", token.lemma_)"
   ]
  },
  {
   "cell_type": "markdown",
   "id": "75128bf2-5b0c-417f-8dd0-ea9e1adcd8ee",
   "metadata": {},
   "source": [
    "EXERCISE"
   ]
  },
  {
   "cell_type": "code",
   "execution_count": 68,
   "id": "f09326b2-5fa7-48a8-9fab-fffaf09e318e",
   "metadata": {},
   "outputs": [
    {
     "name": "stdout",
     "output_type": "stream",
     "text": [
      "running | run\n",
      "painting | paint\n",
      "walking | walk\n",
      "dressing | dress\n",
      "likely | like\n",
      "children | children\n",
      "whom | whom\n",
      "good | good\n",
      "ate | ate\n",
      "fishing | fish\n"
     ]
    }
   ],
   "source": [
    "lst_words = ['running', 'painting', 'walking', 'dressing', 'likely', 'children', 'whom', 'good', 'ate', 'fishing']\n",
    "\n",
    "for word in lst_words:\n",
    "    print(word, '|',stemmer.stem(word))"
   ]
  },
  {
   "cell_type": "code",
   "execution_count": 74,
   "id": "64c9b0b1-1943-4972-ae17-bdc934f943db",
   "metadata": {},
   "outputs": [
    {
     "name": "stdout",
     "output_type": "stream",
     "text": [
      "running | run\n",
      "painting | painting\n",
      "walking | walking\n",
      "dressing | dress\n",
      "likely | likely\n",
      "children | child\n",
      "who | who\n",
      "good | good\n",
      "ate | eat\n",
      "fishing | fish\n"
     ]
    }
   ],
   "source": [
    "nlp= spacy.load(\"en_core_web_sm\")\n",
    "doc = nlp(\"running painting walking dressing likely children who good ate fishing\")\n",
    "for token in doc:\n",
    "    print(token, '|', token.lemma_)"
   ]
  },
  {
   "cell_type": "markdown",
   "id": "69a230e5-444a-40cb-bf82-47ad2793aad1",
   "metadata": {},
   "source": [
    "Key Notes\n",
    "\n",
    "Lemmatization is better for linguistic meaning — it converts children → child and ate → eat, which stemming cannot.\n",
    "\n",
    "Stemming can over-reduce (e.g., likely → like), which may change meaning.\n",
    "\n",
    "For NLP tasks like search engines or text analysis, lemmatization is preferred when meaning matters, but stemming is faster."
   ]
  },
  {
   "cell_type": "code",
   "execution_count": 83,
   "id": "b2fca5f1-81fc-47a5-a04a-71bd32983652",
   "metadata": {},
   "outputs": [
    {
     "name": "stdout",
     "output_type": "stream",
     "text": [
      "Latha | latha | Latha\n",
      "is | is | be\n",
      "very | veri | very\n",
      "multi | multi | multi\n",
      "talented | talent | talented\n",
      "girl | girl | girl\n",
      "She | she | she\n",
      "is | is | be\n",
      "good | good | good\n",
      "at | at | at\n",
      "many | mani | many\n",
      "skills | skill | skill\n",
      "like | like | like\n",
      "dancing | danc | dancing\n",
      "running | run | running\n",
      "singing | sing | singing\n",
      "playing | play | play\n",
      "She | she | she\n",
      "also | also | also\n",
      "likes | like | like\n",
      "eating | eat | eat\n",
      "Pav | pav | Pav\n",
      "Bhagi | bhagi | Bhagi\n",
      "she | she | she\n",
      "has | ha | have\n",
      "a | a | a\n",
      "habit | habit | habit\n",
      "of | of | of\n",
      "fishing | fish | fishing\n",
      "and | and | and\n",
      "swimming | swim | swim\n",
      "too | too | too\n",
      "Besides | besid | besides\n",
      "all | all | all\n",
      "this | thi | this\n",
      "she | she | she\n",
      "is | is | be\n",
      "a | a | a\n",
      "wonderful | wonder | wonderful\n",
      "at | at | at\n",
      "cooking | cook | cook\n",
      "too | too | too\n"
     ]
    }
   ],
   "source": [
    "text = \"\"\"Latha is very multi talented girl.She is good at many skills like dancing, running, singing, playing.She also likes eating Pav Bhagi. she has a \n",
    "habit of fishing and swimming too.Besides all this, she is a wonderful at cooking too.\n",
    "\"\"\"\n",
    "\n",
    "\n",
    "doc=nlp(text)\n",
    "\n",
    "for token in doc:\n",
    "    if token.is_alpha:\n",
    "        print(token, '|', stemmer.stem(token.text) ,'|' , token.lemma_)"
   ]
  },
  {
   "cell_type": "code",
   "execution_count": null,
   "id": "ea8b209d-d2a7-45f1-a378-d9eb28fb975b",
   "metadata": {},
   "outputs": [],
   "source": []
  }
 ],
 "metadata": {
  "kernelspec": {
   "display_name": "Python (base)",
   "language": "python",
   "name": "base"
  },
  "language_info": {
   "codemirror_mode": {
    "name": "ipython",
    "version": 3
   },
   "file_extension": ".py",
   "mimetype": "text/x-python",
   "name": "python",
   "nbconvert_exporter": "python",
   "pygments_lexer": "ipython3",
   "version": "3.12.3"
  }
 },
 "nbformat": 4,
 "nbformat_minor": 5
}
