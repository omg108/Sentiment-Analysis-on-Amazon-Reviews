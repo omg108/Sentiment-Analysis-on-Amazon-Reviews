{
 "cells": [
  {
   "cell_type": "code",
   "execution_count": 1,
   "id": "84ee9a5d-8866-40ac-8500-d8a2c87ba159",
   "metadata": {},
   "outputs": [],
   "source": [
    "import re"
   ]
  },
  {
   "cell_type": "code",
   "execution_count": 5,
   "id": "711935ff-ae9e-41f8-bc82-ed39c63521fe",
   "metadata": {},
   "outputs": [
    {
     "data": {
      "text/plain": [
       "['412889912']"
      ]
     },
     "execution_count": 5,
     "metadata": {},
     "output_type": "execute_result"
    }
   ],
   "source": [
    "chat1='codebasics: Hello, I am having an issue with my order # 412889912'\n",
    "\n",
    "pattern = r'order[^\\d]*(\\d*)'\n",
    "matches = re.findall(pattern, chat1)\n",
    "matches"
   ]
  },
  {
   "cell_type": "code",
   "execution_count": 9,
   "id": "1b09a74d-a1bb-4745-8f2e-26c7c8eeab4e",
   "metadata": {},
   "outputs": [
    {
     "data": {
      "text/plain": [
       "['412889912']"
      ]
     },
     "execution_count": 9,
     "metadata": {},
     "output_type": "execute_result"
    }
   ],
   "source": [
    "chat2='codebasics: I have a problem with my order number 412889912'\n",
    "pattern = r'order[^\\d]*(\\d*)'\n",
    "matches = re.findall(pattern, chat2)\n",
    "matches"
   ]
  },
  {
   "cell_type": "code",
   "execution_count": 11,
   "id": "16e6e54e-08a0-4391-8e32-796b629953a7",
   "metadata": {},
   "outputs": [
    {
     "data": {
      "text/plain": [
       "['412889912']"
      ]
     },
     "execution_count": 11,
     "metadata": {},
     "output_type": "execute_result"
    }
   ],
   "source": [
    "chat3='codebasics: My order 412889912 is having an issue, I was charged 300$ when online it says 280$'\n",
    "pattern = r'order[^\\d]*(\\d*)'\n",
    "matches = re.findall(pattern, chat3)\n",
    "matches"
   ]
  },
  {
   "cell_type": "code",
   "execution_count": 13,
   "id": "7d45b20b-eabe-4e22-8181-c730a6bd6e7a",
   "metadata": {},
   "outputs": [],
   "source": [
    "def get_pattern_match(pattern, text):\n",
    "    matches = re.findall(pattern, text)\n",
    "    if matches:\n",
    "        return matches[0]"
   ]
  },
  {
   "cell_type": "code",
   "execution_count": 17,
   "id": "1726540b-79d5-4201-bdf9-9aebd0f951e8",
   "metadata": {},
   "outputs": [
    {
     "data": {
      "text/plain": [
       "'412889912'"
      ]
     },
     "execution_count": 17,
     "metadata": {},
     "output_type": "execute_result"
    }
   ],
   "source": [
    "get_pattern_match(r'order[^\\d]*(\\d*)', chat1)"
   ]
  },
  {
   "cell_type": "markdown",
   "id": "2b22ea08-057d-4ed4-b4db-0e3263ad2ac3",
   "metadata": {},
   "source": [
    "Retrieve email id and phone"
   ]
  },
  {
   "cell_type": "code",
   "execution_count": 31,
   "id": "8a5d4fa4-640d-42f4-9118-db3edc4d2048",
   "metadata": {},
   "outputs": [],
   "source": [
    "chat1 = 'codebasics: you ask lot of questions 😠  1235678912, abc@xyz.com'\n",
    "chat2 = 'codebasics: here it is: (123)-567-8912, abc3@xyz.com'\n",
    "chat3 = 'codebasics: yes, phone: 1235678912 email: abc3@xyz.io'"
   ]
  },
  {
   "cell_type": "markdown",
   "id": "3fc0cbd8-464b-4991-88e6-32f4bba04369",
   "metadata": {},
   "source": [
    "-----Email id-----"
   ]
  },
  {
   "cell_type": "code",
   "execution_count": 34,
   "id": "3d397519-81f0-4811-a8c3-320182e07aae",
   "metadata": {},
   "outputs": [
    {
     "data": {
      "text/plain": [
       "'abc@xyz.com'"
      ]
     },
     "execution_count": 34,
     "metadata": {},
     "output_type": "execute_result"
    }
   ],
   "source": [
    "get_pattern_match(r'[a-zA-Z0-9_]*@[a-z]*\\.[a-zA-Z0-9]*',chat1)"
   ]
  },
  {
   "cell_type": "code",
   "execution_count": 36,
   "id": "0fd380ac-dc2a-4b7a-8a12-a57af104d4b7",
   "metadata": {},
   "outputs": [
    {
     "data": {
      "text/plain": [
       "'abc3@xyz.com'"
      ]
     },
     "execution_count": 36,
     "metadata": {},
     "output_type": "execute_result"
    }
   ],
   "source": [
    "get_pattern_match(r'[a-zA-Z0-9_]*@[a-z]*\\.[a-zA-Z0-9]*',chat2)"
   ]
  },
  {
   "cell_type": "code",
   "execution_count": 38,
   "id": "7ef34f28-2454-4509-b87e-35ac99dc10a7",
   "metadata": {},
   "outputs": [
    {
     "data": {
      "text/plain": [
       "'abc3@xyz.io'"
      ]
     },
     "execution_count": 38,
     "metadata": {},
     "output_type": "execute_result"
    }
   ],
   "source": [
    "get_pattern_match(r'[a-zA-Z0-9_]*@[a-z]*\\.[a-zA-Z0-9]*',chat3)"
   ]
  },
  {
   "cell_type": "markdown",
   "id": "c688aa0f-6171-485f-80a6-12dbdb2d8383",
   "metadata": {},
   "source": [
    "phone numbers"
   ]
  },
  {
   "cell_type": "code",
   "execution_count": 41,
   "id": "5ad69065-74a8-4ac4-a0a1-1bd4d7eac1fc",
   "metadata": {},
   "outputs": [
    {
     "data": {
      "text/plain": [
       "('1235678912', '')"
      ]
     },
     "execution_count": 41,
     "metadata": {},
     "output_type": "execute_result"
    }
   ],
   "source": [
    "get_pattern_match(r'(\\d{10})|(\\(\\d{3}\\)-\\d{3}-\\d{4})',chat1)"
   ]
  },
  {
   "cell_type": "code",
   "execution_count": 43,
   "id": "55494c89-ae0e-4391-87c2-b88fa8c485eb",
   "metadata": {},
   "outputs": [
    {
     "data": {
      "text/plain": [
       "('', '(123)-567-8912')"
      ]
     },
     "execution_count": 43,
     "metadata": {},
     "output_type": "execute_result"
    }
   ],
   "source": [
    "get_pattern_match(r'(\\d{10})|(\\(\\d{3}\\)-\\d{3}-\\d{4})',chat2)"
   ]
  },
  {
   "cell_type": "code",
   "execution_count": 45,
   "id": "1c2730b4-5768-449b-9c9c-469fa85ffdec",
   "metadata": {},
   "outputs": [
    {
     "data": {
      "text/plain": [
       "('1235678912', '')"
      ]
     },
     "execution_count": 45,
     "metadata": {},
     "output_type": "execute_result"
    }
   ],
   "source": [
    "get_pattern_match(r'(\\d{10})|(\\(\\d{3}\\)-\\d{3}-\\d{4})',chat3)"
   ]
  },
  {
   "cell_type": "code",
   "execution_count": null,
   "id": "b85b34af-4d19-4ce3-a684-25414dc2ac50",
   "metadata": {},
   "outputs": [],
   "source": []
  },
  {
   "cell_type": "markdown",
   "id": "a910a1c4-1ff4-4e23-9e7e-84b0e0223614",
   "metadata": {},
   "source": [
    "(2) Regex for Information Extraction"
   ]
  },
  {
   "cell_type": "code",
   "execution_count": null,
   "id": "3f0d90a0-3d16-4f3a-9397-639d6f01ac63",
   "metadata": {},
   "outputs": [],
   "source": []
  },
  {
   "cell_type": "code",
   "execution_count": 52,
   "id": "36b0db95-ade5-419e-8848-c6347c9f9aeb",
   "metadata": {},
   "outputs": [],
   "source": [
    "text='''\n",
    "Born\tElon Reeve Musk\n",
    "June 28, 1971 (age 50)\n",
    "Pretoria, Transvaal, South Africa\n",
    "Citizenship\t\n",
    "South Africa (1971–present)\n",
    "Canada (1971–present)\n",
    "United States (2002–present)\n",
    "Education\tUniversity of Pennsylvania (BS, BA)\n",
    "Title\t\n",
    "Founder, CEO and Chief Engineer of SpaceX\n",
    "CEO and product architect of Tesla, Inc.\n",
    "Founder of The Boring Company and X.com (now part of PayPal)\n",
    "Co-founder of Neuralink, OpenAI, and Zip2\n",
    "Spouse(s)\t\n",
    "Justine Wilson\n",
    "​\n",
    "​(m. 2000; div. 2008)​\n",
    "Talulah Riley\n",
    "​\n",
    "​(m. 2010; div. 2012)​\n",
    "​\n",
    "​(m. 2013; div. 2016)\n",
    "'''"
   ]
  },
  {
   "cell_type": "code",
   "execution_count": 54,
   "id": "2810bd81-45dc-4c3d-9237-004568c79486",
   "metadata": {},
   "outputs": [
    {
     "data": {
      "text/plain": [
       "'50'"
      ]
     },
     "execution_count": 54,
     "metadata": {},
     "output_type": "execute_result"
    }
   ],
   "source": [
    "get_pattern_match(r'age (\\d+)', text)"
   ]
  },
  {
   "cell_type": "code",
   "execution_count": 56,
   "id": "704c517e-b9a3-45bc-a149-88de53d54ba0",
   "metadata": {},
   "outputs": [
    {
     "data": {
      "text/plain": [
       "'Elon Reeve Musk'"
      ]
     },
     "execution_count": 56,
     "metadata": {},
     "output_type": "execute_result"
    }
   ],
   "source": [
    "get_pattern_match(r'Born(.*)\\n', text).strip()"
   ]
  },
  {
   "cell_type": "code",
   "execution_count": 58,
   "id": "c192753b-bc32-49e0-83c2-49ddd74c2126",
   "metadata": {},
   "outputs": [
    {
     "data": {
      "text/plain": [
       "'June 28, 1971'"
      ]
     },
     "execution_count": 58,
     "metadata": {},
     "output_type": "execute_result"
    }
   ],
   "source": [
    "get_pattern_match(r'Born.*\\n(.*)\\(age', text).strip()"
   ]
  },
  {
   "cell_type": "code",
   "execution_count": 60,
   "id": "376df9a7-cd58-434c-b82f-b0fd496075d8",
   "metadata": {},
   "outputs": [
    {
     "data": {
      "text/plain": [
       "'Pretoria, Transvaal, South Africa'"
      ]
     },
     "execution_count": 60,
     "metadata": {},
     "output_type": "execute_result"
    }
   ],
   "source": [
    "get_pattern_match(r'\\(age.*\\n(.*)', text)"
   ]
  },
  {
   "cell_type": "code",
   "execution_count": 64,
   "id": "b5000060-a602-47b0-86d8-f4aa04efdc12",
   "metadata": {},
   "outputs": [],
   "source": [
    "def extract_personal_information(text):\n",
    "    age = get_pattern_match(r'age (\\d+)', text)\n",
    "    full_name = get_pattern_match(r'Born(.*)\\n', text)\n",
    "    birth_date = get_pattern_match(r'Born.*\\n(.*)\\(age', text)\n",
    "    birth_place = get_pattern_match(r'\\(age.*\\n(.*)', text)\n",
    "    return {\n",
    "        'age': int(age),\n",
    "        'name': full_name.strip(),\n",
    "        'birth_date': birth_date.strip(),\n",
    "        'birth_place': birth_place.strip()\n",
    "    }"
   ]
  },
  {
   "cell_type": "code",
   "execution_count": 66,
   "id": "d3f71395-d45d-438a-8c49-00f51b1a9e10",
   "metadata": {},
   "outputs": [
    {
     "data": {
      "text/plain": [
       "{'age': 50,\n",
       " 'name': 'Elon Reeve Musk',\n",
       " 'birth_date': 'June 28, 1971',\n",
       " 'birth_place': 'Pretoria, Transvaal, South Africa'}"
      ]
     },
     "execution_count": 66,
     "metadata": {},
     "output_type": "execute_result"
    }
   ],
   "source": [
    "extract_personal_information(text)"
   ]
  },
  {
   "cell_type": "code",
   "execution_count": 68,
   "id": "9e495b23-ae23-491e-a18f-2effa620d757",
   "metadata": {},
   "outputs": [],
   "source": [
    "text = '''\n",
    "Born\tMukesh Dhirubhai Ambani\n",
    "19 April 1957 (age 64)\n",
    "Aden, Colony of Aden\n",
    "(present-day Yemen)[1][2]\n",
    "Nationality\tIndian\n",
    "Alma mater\t\n",
    "St. Xavier's College, Mumbai\n",
    "Institute of Chemical Technology (B.E.)\n",
    "Stanford University (drop-out)\n",
    "Occupation\tChairman and MD, Reliance Industries\n",
    "Spouse(s)\tNita Ambani ​(m. 1985)​[3]\n",
    "Children\t3\n",
    "Parent(s)\t\n",
    "Dhirubhai Ambani (father)\n",
    "Kokilaben Ambani (mother)\n",
    "Relatives\tAnil Ambani (brother)\n",
    "Tina Ambani (sister-in-law)\n",
    "'''"
   ]
  },
  {
   "cell_type": "code",
   "execution_count": 70,
   "id": "7bacdfb7-db2b-4ef9-8a77-86d28ec05db3",
   "metadata": {},
   "outputs": [
    {
     "data": {
      "text/plain": [
       "{'age': 64,\n",
       " 'name': 'Mukesh Dhirubhai Ambani',\n",
       " 'birth_date': '19 April 1957',\n",
       " 'birth_place': 'Aden, Colony of Aden'}"
      ]
     },
     "execution_count": 70,
     "metadata": {},
     "output_type": "execute_result"
    }
   ],
   "source": [
    "extract_personal_information(text)"
   ]
  },
  {
   "cell_type": "code",
   "execution_count": null,
   "id": "2f6cff56-8a16-4f5f-a4f7-26457e25c3aa",
   "metadata": {},
   "outputs": [],
   "source": []
  },
  {
   "cell_type": "markdown",
   "id": "6caaae01-264e-494f-a375-8209d3f0991a",
   "metadata": {},
   "source": [
    "EXERCISE"
   ]
  },
  {
   "cell_type": "code",
   "execution_count": 83,
   "id": "9e86dada-7163-4a3c-8266-ae80583d2db7",
   "metadata": {},
   "outputs": [
    {
     "name": "stdout",
     "output_type": "stream",
     "text": [
      "['https://twitter.com/elonmusk', 'https://twitter.com/teslarati', 'https://twitter.com/dummy_tesla', 'https://twitter.com/dummy_2_tesla']\n"
     ]
    }
   ],
   "source": [
    "text = '''\n",
    "Follow our leader Elon musk on twitter here: https://twitter.com/elonmusk, more information \n",
    "on Tesla's products can be found at https://www.tesla.com/. Also here are leading influencers \n",
    "for tesla related news,\n",
    "https://twitter.com/teslarati\n",
    "https://twitter.com/dummy_tesla\n",
    "https://twitter.com/dummy_2_tesla\n",
    "'''\n",
    "pattern = 'https://twitter.com/[a-zA-Z0-9_]*' # todo: type your regex here\n",
    "\n",
    "matches=re.findall(pattern, text)\n",
    "print(matches)"
   ]
  },
  {
   "cell_type": "code",
   "execution_count": 85,
   "id": "430dbf4f-c870-44de-8c1b-c3969907c658",
   "metadata": {},
   "outputs": [
    {
     "data": {
      "text/plain": [
       "['Credit Risk', 'Supply Risk']"
      ]
     },
     "execution_count": 85,
     "metadata": {},
     "output_type": "execute_result"
    }
   ],
   "source": [
    "text = '''\n",
    "Concentration of Risk: Credit Risk\n",
    "Financial instruments that potentially subject us to a concentration of credit risk consist of cash, cash equivalents, marketable securities,\n",
    "restricted cash, accounts receivable, convertible note hedges, and interest rate swaps. Our cash balances are primarily invested in money market funds\n",
    "or on deposit at high credit quality financial institutions in the U.S. These deposits are typically in excess of insured limits. As of September 30, 2021\n",
    "and December 31, 2020, no entity represented 10% or more of our total accounts receivable balance. The risk of concentration for our convertible note\n",
    "hedges and interest rate swaps is mitigated by transacting with several highly-rated multinational banks.\n",
    "Concentration of Risk: Supply Risk\n",
    "We are dependent on our suppliers, including single source suppliers, and the inability of these suppliers to deliver necessary components of our\n",
    "products in a timely manner at prices, quality levels and volumes acceptable to us, or our inability to efficiently manage these components from these\n",
    "suppliers, could have a material adverse effect on our business, prospects, financial condition and operating results.\n",
    "'''\n",
    "pattern = r'Concentration of Risk:\\s*([A-Za-z ]*Risk)' # todo: type your regex here\n",
    "\n",
    "re.findall(pattern, text)"
   ]
  },
  {
   "cell_type": "code",
   "execution_count": 91,
   "id": "586539f8-6f64-4e0b-8346-8502c9bc2e0a",
   "metadata": {},
   "outputs": [
    {
     "data": {
      "text/plain": [
       "['FY2021 Q1 was $4.85 billion', 'FY2021 S1 was $8 billion']"
      ]
     },
     "execution_count": 91,
     "metadata": {},
     "output_type": "execute_result"
    }
   ],
   "source": [
    "text = '''\n",
    "Tesla's gross cost of operating lease vehicles in FY2021 Q1 was $4.85 billion.\n",
    "BMW's gross cost of operating vehicles in FY2021 S1 was $8 billion.\n",
    "'''\n",
    "\n",
    "pattern = r'FY\\d{4} [QS]\\d was \\$[\\d\\.]+ billion' # todo: type your regex here\n",
    "matches = re.findall(pattern, text)\n",
    "matches"
   ]
  },
  {
   "cell_type": "code",
   "execution_count": 95,
   "id": "d8000b76-2516-43d1-8b43-194e26e6199f",
   "metadata": {},
   "outputs": [
    {
     "data": {
      "text/plain": [
       "['2021 Q1', '2021 S1']"
      ]
     },
     "execution_count": 95,
     "metadata": {},
     "output_type": "execute_result"
    }
   ],
   "source": [
    "text = '''\n",
    "Tesla's gross cost of operating lease vehicles in FY2021 Q1 was $4.85 billion.\n",
    "BMW's gross cost of operating vehicles in FY2021 S1 was $8 billion.\n",
    "'''\n",
    "\n",
    "pattern = r'FY(\\d{4} (?:Q[1-4]|S[1-2]))'\n",
    "matches = re.findall(pattern, text)\n",
    "matches"
   ]
  },
  {
   "cell_type": "code",
   "execution_count": null,
   "id": "75ba91c3-f4fb-4b02-b708-d9f8f8f3e74d",
   "metadata": {},
   "outputs": [],
   "source": []
  }
 ],
 "metadata": {
  "kernelspec": {
   "display_name": "Python (base)",
   "language": "python",
   "name": "base"
  },
  "language_info": {
   "codemirror_mode": {
    "name": "ipython",
    "version": 3
   },
   "file_extension": ".py",
   "mimetype": "text/x-python",
   "name": "python",
   "nbconvert_exporter": "python",
   "pygments_lexer": "ipython3",
   "version": "3.12.3"
  }
 },
 "nbformat": 4,
 "nbformat_minor": 5
}
